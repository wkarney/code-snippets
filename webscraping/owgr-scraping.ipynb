{
 "cells": [
  {
   "cell_type": "markdown",
   "metadata": {},
   "source": [
    "## Web scraping demo"
   ]
  },
  {
   "cell_type": "markdown",
   "metadata": {},
   "source": [
    "Demo script for scraping the Official World Golf Rankings.\n",
    "Check out my [blog post](https://medium.com/@willkarnasiewicz/getdata-pt1-webscraping-e21682e57c3f) for more details."
   ]
  },
  {
   "cell_type": "code",
   "execution_count": 1,
   "metadata": {},
   "outputs": [],
   "source": [
    "# Package imports\n",
    "import requests\n",
    "from bs4 import BeautifulSoup\n",
    "import pandas as pd"
   ]
  },
  {
   "cell_type": "code",
   "execution_count": 2,
   "metadata": {},
   "outputs": [],
   "source": [
    "# Defining the url\n",
    "url = 'http://www.owgr.com/en/Ranking.aspx?pageNo=1&pageSize=300&country=All'"
   ]
  },
  {
   "cell_type": "code",
   "execution_count": 3,
   "metadata": {},
   "outputs": [],
   "source": [
    "# Make HTTP request to URL\n",
    "res = requests.get(url)\n",
    "\n",
    "# Generate BeautifulSoup object\n",
    "soup = BeautifulSoup(res.content, 'lxml')"
   ]
  },
  {
   "cell_type": "code",
   "execution_count": 4,
   "metadata": {},
   "outputs": [],
   "source": [
    "# Find the first table element on the page\n",
    "table = soup.find('table')\n",
    "\n",
    "# Instantiate a blank list and a counter for ranking position\n",
    "rankings = []\n",
    "curr_rank = 1\n",
    "\n",
    "# Iterate over all rows in the table, starting with the 2nd row\n",
    "for rows in table.find_all('tr')[1:]:\n",
    "    # Instatiate dictionary for each row\n",
    "    player = {}\n",
    "    \n",
    "    # Assign the name, country, and rank for each player/row of the table\n",
    "    player['name'] = rows.find('td',{'class':'name'}).text\n",
    "    player['country'] = rows.find('td',{'class':'ctry'}).find('img')['title']\n",
    "    player['rank'] = curr_rank\n",
    "    curr_rank += 1\n",
    "    \n",
    "    # Append each player to the ranking list\n",
    "    rankings.append(player)"
   ]
  },
  {
   "cell_type": "code",
   "execution_count": 5,
   "metadata": {},
   "outputs": [],
   "source": [
    "# Create OWGR dataframe with ranking as index\n",
    "owgr = pd.DataFrame(rankings).set_index('rank')"
   ]
  },
  {
   "cell_type": "code",
   "execution_count": 6,
   "metadata": {},
   "outputs": [],
   "source": [
    "# Export to CSV file\n",
    "owgr.to_csv('./current-OWGR.csv')"
   ]
  }
 ],
 "metadata": {
  "kernelspec": {
   "display_name": "Python 3",
   "language": "python",
   "name": "python3"
  },
  "language_info": {
   "codemirror_mode": {
    "name": "ipython",
    "version": 3
   },
   "file_extension": ".py",
   "mimetype": "text/x-python",
   "name": "python",
   "nbconvert_exporter": "python",
   "pygments_lexer": "ipython3",
   "version": "3.6.8"
  }
 },
 "nbformat": 4,
 "nbformat_minor": 2
}
