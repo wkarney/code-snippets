{
 "cells": [
  {
   "cell_type": "markdown",
   "metadata": {},
   "source": [
    "## [Riddler League Baseball](https://fivethirtyeight.com/features/which-baseball-team-will-win-the-riddler-fall-classic/)"
   ]
  },
  {
   "cell_type": "markdown",
   "metadata": {},
   "source": [
    "Riddler League Baseball, also known as the RLB, consists of three teams: the Mississippi Moonwalkers, the Delaware Doubloons and the Tennessee Taters.\n",
    "\n",
    "Each time a batter for the Moonwalkers comes to the plate, they have a 40 percent chance of getting a walk and a 60 percent chance of striking out. Each batter for the Doubloons, meanwhile, hits a double 20 percent percent of the time, driving in any teammates who are on base, and strikes out the remaining 80 percent of the time. Finally, each batter for the Taters has a 10 percent chance of hitting a home run and a 90 percent chance of striking out.\n",
    "\n",
    "During the RLB season, each team plays an equal number of games against each opponent. Games are nine innings long and can go into extra innings just like in other baseball leagues. Which of the three teams is most likely to have the best record at the end of the season?"
   ]
  },
  {
   "cell_type": "code",
   "execution_count": 1,
   "metadata": {},
   "outputs": [],
   "source": [
    "from rlb_definitions import Team, Game, make_random_team, simulation\n",
    "import pandas as pd\n",
    "import matplotlib.pyplot as plt"
   ]
  },
  {
   "cell_type": "code",
   "execution_count": 2,
   "metadata": {},
   "outputs": [],
   "source": [
    "# Riddler League Baseball Specifications:\n",
    "moonwalkers = Team(name='Moonwalkers', k_rate=.6, bb_rate=.4, hr_rate=0, double_rate=0)\n",
    "doubloons = Team(name='Doubloons', k_rate=.8, bb_rate=0, hr_rate=0, double_rate=.2)\n",
    "taters = Team(name='Taters', k_rate=.9, bb_rate=0, hr_rate=.1, double_rate=0)\n",
    "rlb_league = [moonwalkers, doubloons, taters]"
   ]
  },
  {
   "cell_type": "code",
   "execution_count": 3,
   "metadata": {},
   "outputs": [],
   "source": [
    "rlb_results = simulation(teams=rlb_league, num=10_000)\n",
    "rlb_results_df = pd.DataFrame(rlb_results)"
   ]
  },
  {
   "cell_type": "code",
   "execution_count": 4,
   "metadata": {},
   "outputs": [
    {
     "data": {
      "text/html": [
       "<div>\n",
       "<style scoped>\n",
       "    .dataframe tbody tr th:only-of-type {\n",
       "        vertical-align: middle;\n",
       "    }\n",
       "\n",
       "    .dataframe tbody tr th {\n",
       "        vertical-align: top;\n",
       "    }\n",
       "\n",
       "    .dataframe thead th {\n",
       "        text-align: right;\n",
       "    }\n",
       "</style>\n",
       "<table border=\"1\" class=\"dataframe\">\n",
       "  <thead>\n",
       "    <tr style=\"text-align: right;\">\n",
       "      <th></th>\n",
       "      <th>away</th>\n",
       "      <th>home</th>\n",
       "      <th>away_score</th>\n",
       "      <th>home_score</th>\n",
       "      <th>total_innings</th>\n",
       "      <th>winner</th>\n",
       "      <th>loser</th>\n",
       "      <th>extra_innings</th>\n",
       "    </tr>\n",
       "  </thead>\n",
       "  <tbody>\n",
       "    <tr>\n",
       "      <th>0</th>\n",
       "      <td>Moonwalkers</td>\n",
       "      <td>Doubloons</td>\n",
       "      <td>2</td>\n",
       "      <td>1</td>\n",
       "      <td>9.0</td>\n",
       "      <td>Moonwalkers</td>\n",
       "      <td>Doubloons</td>\n",
       "      <td>False</td>\n",
       "    </tr>\n",
       "    <tr>\n",
       "      <th>1</th>\n",
       "      <td>Moonwalkers</td>\n",
       "      <td>Taters</td>\n",
       "      <td>6</td>\n",
       "      <td>5</td>\n",
       "      <td>16.0</td>\n",
       "      <td>Moonwalkers</td>\n",
       "      <td>Taters</td>\n",
       "      <td>True</td>\n",
       "    </tr>\n",
       "    <tr>\n",
       "      <th>2</th>\n",
       "      <td>Doubloons</td>\n",
       "      <td>Moonwalkers</td>\n",
       "      <td>3</td>\n",
       "      <td>1</td>\n",
       "      <td>9.0</td>\n",
       "      <td>Doubloons</td>\n",
       "      <td>Moonwalkers</td>\n",
       "      <td>False</td>\n",
       "    </tr>\n",
       "    <tr>\n",
       "      <th>3</th>\n",
       "      <td>Doubloons</td>\n",
       "      <td>Taters</td>\n",
       "      <td>2</td>\n",
       "      <td>4</td>\n",
       "      <td>8.5</td>\n",
       "      <td>Taters</td>\n",
       "      <td>Doubloons</td>\n",
       "      <td>False</td>\n",
       "    </tr>\n",
       "    <tr>\n",
       "      <th>4</th>\n",
       "      <td>Taters</td>\n",
       "      <td>Moonwalkers</td>\n",
       "      <td>4</td>\n",
       "      <td>6</td>\n",
       "      <td>10.0</td>\n",
       "      <td>Moonwalkers</td>\n",
       "      <td>Taters</td>\n",
       "      <td>True</td>\n",
       "    </tr>\n",
       "  </tbody>\n",
       "</table>\n",
       "</div>"
      ],
      "text/plain": [
       "          away         home  away_score  home_score  total_innings  \\\n",
       "0  Moonwalkers    Doubloons           2           1            9.0   \n",
       "1  Moonwalkers       Taters           6           5           16.0   \n",
       "2    Doubloons  Moonwalkers           3           1            9.0   \n",
       "3    Doubloons       Taters           2           4            8.5   \n",
       "4       Taters  Moonwalkers           4           6           10.0   \n",
       "\n",
       "        winner        loser  extra_innings  \n",
       "0  Moonwalkers    Doubloons          False  \n",
       "1  Moonwalkers       Taters           True  \n",
       "2    Doubloons  Moonwalkers          False  \n",
       "3       Taters    Doubloons          False  \n",
       "4  Moonwalkers       Taters           True  "
      ]
     },
     "execution_count": 4,
     "metadata": {},
     "output_type": "execute_result"
    }
   ],
   "source": [
    "rlb_results_df.head()"
   ]
  },
  {
   "cell_type": "code",
   "execution_count": 5,
   "metadata": {},
   "outputs": [],
   "source": [
    "def winning_percentage(team, results_df):\n",
    "    games_played = results_df[(results_df['away'] == team) | (results_df['home'] == team)].shape[0]\n",
    "    games_won = results_df[results_df['winner'] == team].shape[0]\n",
    "    return games_won / games_played"
   ]
  },
  {
   "cell_type": "code",
   "execution_count": 6,
   "metadata": {},
   "outputs": [
    {
     "name": "stdout",
     "output_type": "stream",
     "text": [
      "Taters's winning percentage: 0.572275\n",
      "Moonwalkers's winning percentage: 0.535125\n",
      "Doubloons's winning percentage: 0.3926\n"
     ]
    }
   ],
   "source": [
    "print(f\"Taters's winning percentage: {winning_percentage('Taters', rlb_results_df)}\")\n",
    "print(f\"Moonwalkers's winning percentage: {winning_percentage('Moonwalkers', rlb_results_df)}\")\n",
    "print(f\"Doubloons's winning percentage: {winning_percentage('Doubloons', rlb_results_df)}\")"
   ]
  },
  {
   "cell_type": "code",
   "execution_count": 7,
   "metadata": {},
   "outputs": [],
   "source": [
    "def runs_scored(team, results_df):\n",
    "    team_away = (results_df['away'] == team)\n",
    "    team_home = (results_df['home'] == team)\n",
    "    games_played = results_df[team_away | team_home].shape[0]\n",
    "    runs_scored = results_df[team_away]['away_score'].sum() + results_df[team_home]['home_score'].sum()\n",
    "    return runs_scored, runs_scored / games_played"
   ]
  },
  {
   "cell_type": "code",
   "execution_count": 8,
   "metadata": {},
   "outputs": [],
   "source": [
    "def runs_against(team, results_df):\n",
    "    team_away = (results_df['away'] == team)\n",
    "    team_home = (results_df['home'] == team)\n",
    "    games_played = results_df[team_away | team_home].shape[0]\n",
    "    opp_runs_scored = results_df[team_away]['home_score'].sum() + results_df[team_home]['away_score'].sum()\n",
    "    return opp_runs_scored, opp_runs_scored / games_played"
   ]
  },
  {
   "cell_type": "code",
   "execution_count": 9,
   "metadata": {},
   "outputs": [],
   "source": [
    "def run_differential(team, results_df):\n",
    "    return runs_scored(team, results_df)[0] - runs_against(team, results_df)[0], runs_scored(team, results_df)[1] - runs_against(team, results_df)[1]"
   ]
  },
  {
   "cell_type": "code",
   "execution_count": 10,
   "metadata": {},
   "outputs": [
    {
     "name": "stdout",
     "output_type": "stream",
     "text": [
      "Taters's scored 121122 runs (3.02805 per game)\n",
      "Moonwalkers's scored 137079 runs (3.426975 per game)\n",
      "Doubloons's scored 96960 runs (2.424 per game)\n"
     ]
    }
   ],
   "source": [
    "print(f\"Taters's scored {runs_scored('Taters', rlb_results_df)[0]} runs ({runs_scored('Taters', rlb_results_df)[1]} per game)\")\n",
    "print(f\"Moonwalkers's scored {runs_scored('Moonwalkers', rlb_results_df)[0]} runs ({runs_scored('Moonwalkers', rlb_results_df)[1]} per game)\")\n",
    "print(f\"Doubloons's scored {runs_scored('Doubloons', rlb_results_df)[0]} runs ({runs_scored('Doubloons', rlb_results_df)[1]} per game)\")"
   ]
  },
  {
   "cell_type": "code",
   "execution_count": 11,
   "metadata": {},
   "outputs": [
    {
     "name": "stdout",
     "output_type": "stream",
     "text": [
      "Taters's scored 121122 runs and gave up 116252 runs (4870 differential)\n",
      "Moonwalkers's scored 137079 runs and gave up 109017 runs (28062 differential)\n",
      "Doubloons's scored 96960 runs and gave up 116252 runs (-32932 differential)\n"
     ]
    }
   ],
   "source": [
    "print(f\"Taters's scored {runs_scored('Taters', rlb_results_df)[0]} runs and gave up {runs_against('Taters', rlb_results_df)[0]} runs ({run_differential('Taters', rlb_results_df)[0]} differential)\")\n",
    "print(f\"Moonwalkers's scored {runs_scored('Moonwalkers', rlb_results_df)[0]} runs and gave up {runs_against('Moonwalkers', rlb_results_df)[0]} runs ({run_differential('Moonwalkers', rlb_results_df)[0]} differential)\")\n",
    "print(f\"Doubloons's scored {runs_scored('Doubloons', rlb_results_df)[0]} runs and gave up {runs_against('Taters', rlb_results_df)[0]} runs ({run_differential('Doubloons', rlb_results_df)[0]} differential)\")      "
   ]
  },
  {
   "cell_type": "code",
   "execution_count": 12,
   "metadata": {},
   "outputs": [
    {
     "data": {
      "text/plain": [
       "0.13688333333333333"
      ]
     },
     "execution_count": 12,
     "metadata": {},
     "output_type": "execute_result"
    }
   ],
   "source": [
    "# Percent extra inning games\n",
    "rlb_results_df['extra_innings'].sum() / rlb_results_df.shape[0]"
   ]
  },
  {
   "cell_type": "code",
   "execution_count": 13,
   "metadata": {},
   "outputs": [],
   "source": [
    "# Add in a random team with 75% strikeout rate\n",
    "win_totals = []\n",
    "for _ in range(1_000):\n",
    "    rlb_plus_one_random = [moonwalkers, doubloons, taters, make_random_team(name='Randos', k_rate=0.75)]\n",
    "    rlb_plus_randos_results = simulation(teams=rlb_plus_one_random, num=40)\n",
    "    rlb_plus_randos_results_df = pd.DataFrame(rlb_plus_randos_results)\n",
    "    sim_win_pcts = dict(rlb_plus_randos_results_df['winner'].value_counts(normalize=True))\n",
    "    win_totals.append(sim_win_pcts)\n",
    "random_win_totals = pd.DataFrame(win_totals)"
   ]
  },
  {
   "cell_type": "code",
   "execution_count": 14,
   "metadata": {},
   "outputs": [
    {
     "data": {
      "text/plain": [
       "Taters         0.295083\n",
       "Moonwalkers    0.278765\n",
       "Doubloons      0.220862\n",
       "Randos         0.205290\n",
       "dtype: float64"
      ]
     },
     "execution_count": 14,
     "metadata": {},
     "output_type": "execute_result"
    }
   ],
   "source": [
    "# The Taters are juiced\n",
    "random_win_totals.mean()"
   ]
  },
  {
   "cell_type": "markdown",
   "metadata": {},
   "source": [
    "Probably want to run more simulations for the \"Random Team\" but Taters are still champs!"
   ]
  }
 ],
 "metadata": {
  "kernelspec": {
   "display_name": "DSI",
   "language": "python",
   "name": "dsi"
  },
  "language_info": {
   "codemirror_mode": {
    "name": "ipython",
    "version": 3
   },
   "file_extension": ".py",
   "mimetype": "text/x-python",
   "name": "python",
   "nbconvert_exporter": "python",
   "pygments_lexer": "ipython3",
   "version": "3.6.9"
  }
 },
 "nbformat": 4,
 "nbformat_minor": 2
}
